{
 "cells": [
  {
   "cell_type": "code",
   "execution_count": 1,
   "metadata": {},
   "outputs": [
    {
     "name": "stdout",
     "output_type": "stream",
     "text": [
      "Note: you may need to restart the kernel to use updated packages.\n"
     ]
    },
    {
     "name": "stderr",
     "output_type": "stream",
     "text": [
      "ERROR: Could not find a version that satisfies the requirement python-opencv\n",
      "ERROR: No matching distribution found for python-opencv\n",
      "WARNING: You are using pip version 20.3.4; however, version 23.0.1 is available.\n",
      "You should consider upgrading via the 'c:\\Users\\79520\\AppData\\Local\\Programs\\Python\\Python37\\python.exe -m pip install --upgrade pip' command.\n"
     ]
    }
   ],
   "source": [
    "pip install python-opencv"
   ]
  },
  {
   "cell_type": "code",
   "execution_count": 23,
   "metadata": {},
   "outputs": [
    {
     "name": "stdout",
     "output_type": "stream",
     "text": [
      "Requirement already satisfied: numpy in c:\\users\\79520\\appdata\\local\\programs\\python\\python37\\lib\\site-packages (1.21.6)\n",
      "Note: you may need to restart the kernel to use updated packages.\n"
     ]
    },
    {
     "name": "stderr",
     "output_type": "stream",
     "text": [
      "WARNING: You are using pip version 20.3.4; however, version 23.0.1 is available.\n",
      "You should consider upgrading via the 'c:\\Users\\79520\\AppData\\Local\\Programs\\Python\\Python37\\python.exe -m pip install --upgrade pip' command.\n"
     ]
    }
   ],
   "source": [
    "pip install numpy "
   ]
  },
  {
   "cell_type": "code",
   "execution_count": 1,
   "metadata": {},
   "outputs": [],
   "source": [
    "import cv2"
   ]
  },
  {
   "cell_type": "code",
   "execution_count": 2,
   "metadata": {},
   "outputs": [],
   "source": [
    "import numpy as np"
   ]
  },
  {
   "cell_type": "code",
   "execution_count": 4,
   "metadata": {},
   "outputs": [
    {
     "name": "stdout",
     "output_type": "stream",
     "text": [
      "< cv2.BackgroundSubtractorKNN 00000274E34D8BD0>\n"
     ]
    }
   ],
   "source": [
    "#cap = cv2.VideoCapture(\"C:/Users/79520/Downloads/a.mp4\")\n",
    "cap = cv2.VideoCapture(0)\n",
    "\n",
    "# Создаем объект для вычитания фона, работающий по алгоритму KNN\n",
    "fgbg = cv2.createBackgroundSubtractorKNN()\n",
    "\n",
    "count = 0\n",
    "\n",
    "while True:\n",
    "    ret, frame = cap.read()\n",
    "    \n",
    "    # If the frame cannot be read, break out of the loop\n",
    "    if not ret:\n",
    "        break\n",
    "\n",
    "    frame_1 = frame.copy()\n",
    "\n",
    "    count = (count + 1 % 256)\n",
    "        \n",
    "    # Применяем алгоритм к очередному кадру, получаем маску изменений\n",
    "    fgmask = fgbg.apply(frame)\n",
    "\n",
    "    # Эрозия и расширение\n",
    "    # iterations: It is number of times erosion is applied.\n",
    "    # kernel: Обязательный параметр - матрица, с которой свернуто изображение.\n",
    "    kernel = np.ones((5, 5), np.uint8)\n",
    "    fgmask = cv2.erode(fgmask, kernel, iterations=2)\n",
    "    kernel2 = np.ones((3, 3), np.uint8)\n",
    "    fgmask = cv2.dilate(fgmask, kernel, iterations=2)\n",
    "    \n",
    "    contours, hierarchy = cv2.findContours(fgmask, cv2.RETR_EXTERNAL, cv2.CHAIN_APPROX_SIMPLE)\n",
    "    \n",
    "    fill_color = (255, 0, 0)\n",
    "\n",
    "    for contour in contours:\n",
    "        # используется для выделения интересующей области после получения контуров из изображения.\n",
    "        (x, y, w, h) = cv2.boundingRect(contour)\n",
    "        cv2.rectangle(frame, (x, y), (x + w, y + h), fill_color, 2)\n",
    "        cv2.drawContours(frame_1, [contour], 0, fill_color, -1)\n",
    "        \n",
    "\n",
    "    cv2.putText(frame, str(count), (50, 50), cv2.FONT_HERSHEY_COMPLEX, 1, (200, 10, 20), 2)\n",
    "    cv2.putText(frame_1, str(count), (50, 50), cv2.FONT_HERSHEY_COMPLEX, 1, (200, 10, 20), 2)\n",
    "    frame = cv2.resize(frame, (700, 400))\n",
    "    cv2.imshow('Original', frame)\n",
    "    frame_1 = cv2.resize(frame_1, (700, 400))\n",
    "    cv2.imshow('Motion Detection', frame_1)\n",
    "    fgmask = cv2.resize(fgmask, (700, 400))\n",
    "    cv2.imshow('Motion Detection mask', fgmask)\n",
    "\n",
    "    # Нажатие Esc\n",
    "    if cv2.waitKey(30) & 0xff == 27:\n",
    "        break\n",
    "\n",
    "cap.release()\n",
    "cv2.destroyAllWindows()"
   ]
  }
 ],
 "metadata": {
  "kernelspec": {
   "display_name": "Python 3",
   "language": "python",
   "name": "python3"
  },
  "language_info": {
   "codemirror_mode": {
    "name": "ipython",
    "version": 3
   },
   "file_extension": ".py",
   "mimetype": "text/x-python",
   "name": "python",
   "nbconvert_exporter": "python",
   "pygments_lexer": "ipython3",
   "version": "3.7.9"
  },
  "orig_nbformat": 4
 },
 "nbformat": 4,
 "nbformat_minor": 2
}
