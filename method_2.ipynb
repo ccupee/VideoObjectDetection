{
 "cells": [
  {
   "cell_type": "code",
   "execution_count": null,
   "metadata": {},
   "outputs": [],
   "source": [
    "pip install python-opencv"
   ]
  },
  {
   "cell_type": "code",
   "execution_count": null,
   "metadata": {},
   "outputs": [],
   "source": [
    "pip install numpy "
   ]
  },
  {
   "cell_type": "code",
   "execution_count": null,
   "metadata": {},
   "outputs": [],
   "source": [
    "import cv2"
   ]
  },
  {
   "cell_type": "code",
   "execution_count": null,
   "metadata": {},
   "outputs": [],
   "source": [
    "import numpy as np"
   ]
  },
  {
   "cell_type": "code",
   "execution_count": null,
   "metadata": {},
   "outputs": [],
   "source": [
    "# Create a background subtractor object\n",
    "fgbg = cv2.createBackgroundSubtractorMOG2()\n",
    "# Open the video file\n",
    "cap = cv2.VideoCapture('video.mp4')\n",
    "# Define the color to fill moving objects\n",
    "fill_color = (0, 255, 0) # Green color\n",
    "while True:\n",
    "    # Read a frame from the video    \n",
    "    ret, frame = cap.read()\n",
    "    if not ret:        \n",
    "        break\n",
    "    # Apply background subtraction to the frame\n",
    "    fgmask = fgbg.apply(frame)\n",
    "    # Apply thresholding to the foreground mask    \n",
    "    thresh = cv2.threshold(fgmask, 127, 255, cv2.THRESH_BINARY)[1]\n",
    "    # Find contours in the thresholded mask\n",
    "    contours, hierarchy = cv2.findContours(thresh, cv2.RETR_EXTERNAL, cv2.CHAIN_APPROX_SIMPLE)\n",
    "    # Fill the moving objects with the fill color    \n",
    "    for cnt in contours:\n",
    "        cv2.drawContours(frame, [cnt], 0, fill_color, -1)\n",
    "    # Show the resulting image    \n",
    "    cv2.imshow('frame', frame)\n",
    "    # Press 'q' to quit\n",
    "    if cv2.waitKey(1) & 0xFF == ord('q'):       \n",
    "        break\n",
    "# Release the video file and close all windows\n",
    "cap.release()\n",
    "cv2.destroyAllWindows()"
   ]
  }
 ],
 "metadata": {
  "language_info": {
   "name": "python"
  },
  "orig_nbformat": 4
 },
 "nbformat": 4,
 "nbformat_minor": 2
}
